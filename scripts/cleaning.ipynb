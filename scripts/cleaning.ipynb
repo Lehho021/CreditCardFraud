{
 "cells": [
  {
   "cell_type": "code",
   "execution_count": 1,
   "metadata": {},
   "outputs": [],
   "source": [
    "import pandas as pd\n",
    "import numpy as np"
   ]
  },
  {
   "cell_type": "code",
   "execution_count": 2,
   "metadata": {},
   "outputs": [],
   "source": [
    "df = pd.read_csv('credit_card_fraud_dataset.csv')"
   ]
  },
  {
   "cell_type": "code",
   "execution_count": 3,
   "metadata": {},
   "outputs": [
    {
     "name": "stdout",
     "output_type": "stream",
     "text": [
      "Informasi Dataset Awal:\n",
      "Jumlah baris: 100000\n",
      "Jumlah kolom: 7\n",
      "\n",
      "Kolom-kolom dataset:\n",
      "['TransactionID', 'TransactionDate', 'Amount', 'MerchantID', 'TransactionType', 'Location', 'IsFraud']\n"
     ]
    }
   ],
   "source": [
    "print(\"Informasi Dataset Awal:\")\n",
    "print(f\"Jumlah baris: {len(df)}\")\n",
    "print(f\"Jumlah kolom: {len(df.columns)}\")\n",
    "print(\"\\nKolom-kolom dataset:\")\n",
    "print(df.columns.tolist())"
   ]
  },
  {
   "cell_type": "code",
   "execution_count": 4,
   "metadata": {},
   "outputs": [
    {
     "name": "stdout",
     "output_type": "stream",
     "text": [
      "   TransactionID             TransactionDate   Amount  MerchantID  \\\n",
      "0              1  2024-04-03 14:15:35.462794  4189.27         688   \n",
      "1              2  2024-03-19 13:20:35.462824  2659.71         109   \n",
      "2              3  2024-01-08 10:08:35.462834   784.00         394   \n",
      "3              4  2024-04-13 23:50:35.462850  3514.40         944   \n",
      "4              5  2024-07-12 18:51:35.462858   369.07         475   \n",
      "\n",
      "  TransactionType      Location  IsFraud  \n",
      "0          refund   San Antonio        0  \n",
      "1          refund        Dallas        0  \n",
      "2        purchase      New York        0  \n",
      "3        purchase  Philadelphia        0  \n",
      "4        purchase       Phoenix        0  \n"
     ]
    }
   ],
   "source": [
    "print(df.head())"
   ]
  },
  {
   "cell_type": "code",
   "execution_count": 5,
   "metadata": {},
   "outputs": [
    {
     "name": "stdout",
     "output_type": "stream",
     "text": [
      "TransactionID      0\n",
      "TransactionDate    0\n",
      "Amount             0\n",
      "MerchantID         0\n",
      "TransactionType    0\n",
      "Location           0\n",
      "IsFraud            0\n",
      "dtype: int64\n"
     ]
    }
   ],
   "source": [
    "print(df.isnull().sum())"
   ]
  },
  {
   "cell_type": "code",
   "execution_count": 6,
   "metadata": {},
   "outputs": [
    {
     "name": "stdout",
     "output_type": "stream",
     "text": [
      "TransactionID        int64\n",
      "TransactionDate     object\n",
      "Amount             float64\n",
      "MerchantID           int64\n",
      "TransactionType     object\n",
      "Location            object\n",
      "IsFraud              int64\n",
      "dtype: object\n"
     ]
    }
   ],
   "source": [
    "print(df.dtypes)"
   ]
  },
  {
   "cell_type": "code",
   "execution_count": 7,
   "metadata": {},
   "outputs": [
    {
     "name": "stdout",
     "output_type": "stream",
     "text": [
      "       TransactionID         Amount     MerchantID        IsFraud\n",
      "count  100000.000000  100000.000000  100000.000000  100000.000000\n",
      "mean    50000.500000    2497.092666     501.676070       0.010000\n",
      "std     28867.657797    1442.415999     288.715868       0.099499\n",
      "min         1.000000       1.050000       1.000000       0.000000\n",
      "25%     25000.750000    1247.955000     252.000000       0.000000\n",
      "50%     50000.500000    2496.500000     503.000000       0.000000\n",
      "75%     75000.250000    3743.592500     753.000000       0.000000\n",
      "max    100000.000000    4999.770000    1000.000000       1.000000\n"
     ]
    }
   ],
   "source": [
    "print(df.describe())"
   ]
  },
  {
   "cell_type": "code",
   "execution_count": 8,
   "metadata": {},
   "outputs": [],
   "source": [
    "df['TransactionDate'] = pd.to_datetime(df['TransactionDate'])"
   ]
  },
  {
   "cell_type": "code",
   "execution_count": 9,
   "metadata": {},
   "outputs": [],
   "source": [
    "df['Date'] = df['TransactionDate'].dt.date\n",
    "df['Time'] = df['TransactionDate'].dt.time"
   ]
  },
  {
   "cell_type": "code",
   "execution_count": 10,
   "metadata": {},
   "outputs": [],
   "source": [
    "df['Month'] = df['TransactionDate'].dt.month\n",
    "df['Year'] = df['TransactionDate'].dt.year\n",
    "df['DayOfWeek'] = df['TransactionDate'].dt.day_name()\n",
    "df['Hour'] = df['TransactionDate'].dt.hour"
   ]
  },
  {
   "cell_type": "code",
   "execution_count": 11,
   "metadata": {},
   "outputs": [
    {
     "name": "stdout",
     "output_type": "stream",
     "text": [
      "   TransactionID            TransactionDate   Amount  MerchantID  \\\n",
      "0              1 2024-04-03 14:15:35.462794  4189.27         688   \n",
      "1              2 2024-03-19 13:20:35.462824  2659.71         109   \n",
      "2              3 2024-01-08 10:08:35.462834   784.00         394   \n",
      "3              4 2024-04-13 23:50:35.462850  3514.40         944   \n",
      "4              5 2024-07-12 18:51:35.462858   369.07         475   \n",
      "\n",
      "  TransactionType      Location  IsFraud        Date             Time  Month  \\\n",
      "0          refund   San Antonio        0  2024-04-03  14:15:35.462794      4   \n",
      "1          refund        Dallas        0  2024-03-19  13:20:35.462824      3   \n",
      "2        purchase      New York        0  2024-01-08  10:08:35.462834      1   \n",
      "3        purchase  Philadelphia        0  2024-04-13  23:50:35.462850      4   \n",
      "4        purchase       Phoenix        0  2024-07-12  18:51:35.462858      7   \n",
      "\n",
      "   Year  DayOfWeek  Hour  \n",
      "0  2024  Wednesday    14  \n",
      "1  2024    Tuesday    13  \n",
      "2  2024     Monday    10  \n",
      "3  2024   Saturday    23  \n",
      "4  2024     Friday    18  \n"
     ]
    }
   ],
   "source": [
    "print(df.head())"
   ]
  },
  {
   "cell_type": "code",
   "execution_count": 12,
   "metadata": {},
   "outputs": [
    {
     "name": "stdout",
     "output_type": "stream",
     "text": [
      "<class 'pandas.core.frame.DataFrame'>\n",
      "RangeIndex: 100000 entries, 0 to 99999\n",
      "Data columns (total 13 columns):\n",
      " #   Column           Non-Null Count   Dtype         \n",
      "---  ------           --------------   -----         \n",
      " 0   TransactionID    100000 non-null  int64         \n",
      " 1   TransactionDate  100000 non-null  datetime64[ns]\n",
      " 2   Amount           100000 non-null  float64       \n",
      " 3   MerchantID       100000 non-null  int64         \n",
      " 4   TransactionType  100000 non-null  object        \n",
      " 5   Location         100000 non-null  object        \n",
      " 6   IsFraud          100000 non-null  int64         \n",
      " 7   Date             100000 non-null  object        \n",
      " 8   Time             100000 non-null  object        \n",
      " 9   Month            100000 non-null  int32         \n",
      " 10  Year             100000 non-null  int32         \n",
      " 11  DayOfWeek        100000 non-null  object        \n",
      " 12  Hour             100000 non-null  int32         \n",
      "dtypes: datetime64[ns](1), float64(1), int32(3), int64(3), object(5)\n",
      "memory usage: 8.8+ MB\n"
     ]
    }
   ],
   "source": [
    "df.info()"
   ]
  },
  {
   "cell_type": "code",
   "execution_count": 13,
   "metadata": {},
   "outputs": [],
   "source": [
    "def get_time_period(hour):\n",
    "    if 6 <= hour < 12:\n",
    "        return 'Pagi'\n",
    "    elif 12 <= hour < 18:\n",
    "        return 'Siang'\n",
    "    elif 18 <= hour < 24:\n",
    "        return 'Malam'\n",
    "    else:\n",
    "        return 'Dini Hari'\n",
    "\n",
    "df['TimePeriod'] = df['Hour'].apply(get_time_period)"
   ]
  },
  {
   "cell_type": "code",
   "execution_count": 14,
   "metadata": {},
   "outputs": [],
   "source": [
    "df['IsWeekend'] = df['DayOfWeek'].apply(lambda day: 1 if day in ['Saturday', 'Sunday'] else 0)"
   ]
  },
  {
   "cell_type": "code",
   "execution_count": 15,
   "metadata": {},
   "outputs": [],
   "source": [
    "customer_avg_amount = df.groupby('MerchantID')['Amount'].transform('mean')\n",
    "df['AvgTransactionAmount'] = customer_avg_amount\n",
    "df['AmountRatio'] = df['Amount'] / df['AvgTransactionAmount']"
   ]
  },
  {
   "cell_type": "code",
   "execution_count": 16,
   "metadata": {},
   "outputs": [],
   "source": [
    "df['TimeDiff'] = df.groupby('MerchantID')['TransactionDate'].diff().dt.total_seconds().fillna(0)"
   ]
  },
  {
   "cell_type": "code",
   "execution_count": 17,
   "metadata": {},
   "outputs": [],
   "source": [
    "daily_transactions = df.groupby(['MerchantID', 'Date']).size().reset_index(name='DailyTransactions')\n",
    "monthly_transactions = df.groupby(['MerchantID', 'Year', 'Month']).size().reset_index(name='MonthlyTransactions')\n",
    "\n",
    "df = pd.merge(df, daily_transactions, on=['MerchantID', 'Date'], how='left')\n",
    "df = pd.merge(df, monthly_transactions, on=['MerchantID', 'Year', 'Month'], how='left')"
   ]
  },
  {
   "cell_type": "code",
   "execution_count": 18,
   "metadata": {},
   "outputs": [
    {
     "name": "stdout",
     "output_type": "stream",
     "text": [
      "   TransactionID            TransactionDate   Amount  MerchantID  \\\n",
      "0              1 2024-04-03 14:15:35.462794  4189.27         688   \n",
      "1              2 2024-03-19 13:20:35.462824  2659.71         109   \n",
      "2              3 2024-01-08 10:08:35.462834   784.00         394   \n",
      "3              4 2024-04-13 23:50:35.462850  3514.40         944   \n",
      "4              5 2024-07-12 18:51:35.462858   369.07         475   \n",
      "\n",
      "  TransactionType      Location  IsFraud        Date             Time  Month  \\\n",
      "0          refund   San Antonio        0  2024-04-03  14:15:35.462794      4   \n",
      "1          refund        Dallas        0  2024-03-19  13:20:35.462824      3   \n",
      "2        purchase      New York        0  2024-01-08  10:08:35.462834      1   \n",
      "3        purchase  Philadelphia        0  2024-04-13  23:50:35.462850      4   \n",
      "4        purchase       Phoenix        0  2024-07-12  18:51:35.462858      7   \n",
      "\n",
      "   Year  DayOfWeek  Hour TimePeriod  IsWeekend  AvgTransactionAmount  \\\n",
      "0  2024  Wednesday    14      Siang          0           2557.566909   \n",
      "1  2024    Tuesday    13      Siang          0           2640.400174   \n",
      "2  2024     Monday    10       Pagi          0           2417.777882   \n",
      "3  2024   Saturday    23      Malam          1           2226.250449   \n",
      "4  2024     Friday    18      Malam          0           2459.600638   \n",
      "\n",
      "   AmountRatio  TimeDiff  DailyTransactions  MonthlyTransactions  \n",
      "0     1.637990       0.0                  1                   15  \n",
      "1     1.007313       0.0                  1                    8  \n",
      "2     0.324265       0.0                  1                    8  \n",
      "3     1.578618       0.0                  1                   14  \n",
      "4     0.150053       0.0                  1                   10  \n"
     ]
    }
   ],
   "source": [
    "print(df.head())"
   ]
  },
  {
   "cell_type": "code",
   "execution_count": 19,
   "metadata": {},
   "outputs": [],
   "source": [
    "df.to_csv('credit_card_fraud.cleaning.csv', index=False)"
   ]
  }
 ],
 "metadata": {
  "kernelspec": {
   "display_name": "Python 3",
   "language": "python",
   "name": "python3"
  },
  "language_info": {
   "codemirror_mode": {
    "name": "ipython",
    "version": 3
   },
   "file_extension": ".py",
   "mimetype": "text/x-python",
   "name": "python",
   "nbconvert_exporter": "python",
   "pygments_lexer": "ipython3",
   "version": "3.11.1"
  }
 },
 "nbformat": 4,
 "nbformat_minor": 2
}
